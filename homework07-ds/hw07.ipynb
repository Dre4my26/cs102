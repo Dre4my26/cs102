{
  "nbformat": 4,
  "nbformat_minor": 0,
  "metadata": {
    "colab": {
      "name": "hw07.ipynb",
      "provenance": [],
      "collapsed_sections": []
    },
    "kernelspec": {
      "name": "python3",
      "display_name": "Python 3"
    },
    "language_info": {
      "name": "python"
    }
  },
  "cells": [
    {
      "cell_type": "code",
      "metadata": {
        "id": "5I-_LvU-xhAy"
      },
      "source": [
        "import pandas as pd"
      ],
      "execution_count": 1,
      "outputs": []
    },
    {
      "cell_type": "code",
      "metadata": {
        "colab": {
          "base_uri": "https://localhost:8080/",
          "height": 295
        },
        "id": "HM1OWZbO_-S6",
        "outputId": "e31fb3b9-9add-49c1-fc0a-c7ee3e7095f8"
      },
      "source": [
        "data = pd.read_csv(\"adult_data.csv\")\n",
        "data.head()"
      ],
      "execution_count": 2,
      "outputs": [
        {
          "output_type": "execute_result",
          "data": {
            "text/html": [
              "<div>\n",
              "<style scoped>\n",
              "    .dataframe tbody tr th:only-of-type {\n",
              "        vertical-align: middle;\n",
              "    }\n",
              "\n",
              "    .dataframe tbody tr th {\n",
              "        vertical-align: top;\n",
              "    }\n",
              "\n",
              "    .dataframe thead th {\n",
              "        text-align: right;\n",
              "    }\n",
              "</style>\n",
              "<table border=\"1\" class=\"dataframe\">\n",
              "  <thead>\n",
              "    <tr style=\"text-align: right;\">\n",
              "      <th></th>\n",
              "      <th>age</th>\n",
              "      <th>workclass</th>\n",
              "      <th>fnlwgt</th>\n",
              "      <th>education</th>\n",
              "      <th>education-num</th>\n",
              "      <th>marital-status</th>\n",
              "      <th>occupation</th>\n",
              "      <th>relationship</th>\n",
              "      <th>race</th>\n",
              "      <th>sex</th>\n",
              "      <th>capital-gain</th>\n",
              "      <th>capital-loss</th>\n",
              "      <th>hours-per-week</th>\n",
              "      <th>native-country</th>\n",
              "      <th>salary</th>\n",
              "    </tr>\n",
              "  </thead>\n",
              "  <tbody>\n",
              "    <tr>\n",
              "      <th>0</th>\n",
              "      <td>39</td>\n",
              "      <td>State-gov</td>\n",
              "      <td>77516</td>\n",
              "      <td>Bachelors</td>\n",
              "      <td>13</td>\n",
              "      <td>Never-married</td>\n",
              "      <td>Adm-clerical</td>\n",
              "      <td>Not-in-family</td>\n",
              "      <td>White</td>\n",
              "      <td>Male</td>\n",
              "      <td>2174</td>\n",
              "      <td>0</td>\n",
              "      <td>40</td>\n",
              "      <td>United-States</td>\n",
              "      <td>&lt;=50K</td>\n",
              "    </tr>\n",
              "    <tr>\n",
              "      <th>1</th>\n",
              "      <td>50</td>\n",
              "      <td>Self-emp-not-inc</td>\n",
              "      <td>83311</td>\n",
              "      <td>Bachelors</td>\n",
              "      <td>13</td>\n",
              "      <td>Married-civ-spouse</td>\n",
              "      <td>Exec-managerial</td>\n",
              "      <td>Husband</td>\n",
              "      <td>White</td>\n",
              "      <td>Male</td>\n",
              "      <td>0</td>\n",
              "      <td>0</td>\n",
              "      <td>13</td>\n",
              "      <td>United-States</td>\n",
              "      <td>&lt;=50K</td>\n",
              "    </tr>\n",
              "    <tr>\n",
              "      <th>2</th>\n",
              "      <td>38</td>\n",
              "      <td>Private</td>\n",
              "      <td>215646</td>\n",
              "      <td>HS-grad</td>\n",
              "      <td>9</td>\n",
              "      <td>Divorced</td>\n",
              "      <td>Handlers-cleaners</td>\n",
              "      <td>Not-in-family</td>\n",
              "      <td>White</td>\n",
              "      <td>Male</td>\n",
              "      <td>0</td>\n",
              "      <td>0</td>\n",
              "      <td>40</td>\n",
              "      <td>United-States</td>\n",
              "      <td>&lt;=50K</td>\n",
              "    </tr>\n",
              "    <tr>\n",
              "      <th>3</th>\n",
              "      <td>53</td>\n",
              "      <td>Private</td>\n",
              "      <td>234721</td>\n",
              "      <td>11th</td>\n",
              "      <td>7</td>\n",
              "      <td>Married-civ-spouse</td>\n",
              "      <td>Handlers-cleaners</td>\n",
              "      <td>Husband</td>\n",
              "      <td>Black</td>\n",
              "      <td>Male</td>\n",
              "      <td>0</td>\n",
              "      <td>0</td>\n",
              "      <td>40</td>\n",
              "      <td>United-States</td>\n",
              "      <td>&lt;=50K</td>\n",
              "    </tr>\n",
              "    <tr>\n",
              "      <th>4</th>\n",
              "      <td>28</td>\n",
              "      <td>Private</td>\n",
              "      <td>338409</td>\n",
              "      <td>Bachelors</td>\n",
              "      <td>13</td>\n",
              "      <td>Married-civ-spouse</td>\n",
              "      <td>Prof-specialty</td>\n",
              "      <td>Wife</td>\n",
              "      <td>Black</td>\n",
              "      <td>Female</td>\n",
              "      <td>0</td>\n",
              "      <td>0</td>\n",
              "      <td>40</td>\n",
              "      <td>Cuba</td>\n",
              "      <td>&lt;=50K</td>\n",
              "    </tr>\n",
              "  </tbody>\n",
              "</table>\n",
              "</div>"
            ],
            "text/plain": [
              "   age         workclass  fnlwgt  ... hours-per-week  native-country salary\n",
              "0   39         State-gov   77516  ...             40   United-States  <=50K\n",
              "1   50  Self-emp-not-inc   83311  ...             13   United-States  <=50K\n",
              "2   38           Private  215646  ...             40   United-States  <=50K\n",
              "3   53           Private  234721  ...             40   United-States  <=50K\n",
              "4   28           Private  338409  ...             40            Cuba  <=50K\n",
              "\n",
              "[5 rows x 15 columns]"
            ]
          },
          "metadata": {
            "tags": []
          },
          "execution_count": 2
        }
      ]
    },
    {
      "cell_type": "markdown",
      "metadata": {
        "id": "jqaViPiMn8AE"
      },
      "source": [
        "1. Сколько мужчин и женщин (признак sex) представлено в этом наборе данных?"
      ]
    },
    {
      "cell_type": "code",
      "metadata": {
        "colab": {
          "base_uri": "https://localhost:8080/"
        },
        "id": "HuRmMyq5CnY8",
        "outputId": "54347255-1939-4efe-d166-98e88c1c5bb4"
      },
      "source": [
        "f_data = data.loc[data[\"sex\"] == \"Female\"]\n",
        "m_data = data.loc[data[\"sex\"] == \"Male\"]\n",
        "m_data_shaped = m_data.shape[0]\n",
        "f_data_shaped = f_data.shape[0]\n",
        "print(m_data_shaped, f_data_shaped)"
      ],
      "execution_count": 3,
      "outputs": [
        {
          "output_type": "stream",
          "text": [
            "21790 10771\n"
          ],
          "name": "stdout"
        }
      ]
    },
    {
      "cell_type": "markdown",
      "metadata": {
        "id": "wLjzbOKdn_ht"
      },
      "source": [
        "2. Каков средний возраст (признак age) женщин?"
      ]
    },
    {
      "cell_type": "code",
      "metadata": {
        "colab": {
          "base_uri": "https://localhost:8080/"
        },
        "id": "_RaGmRIKDYyX",
        "outputId": "933a4e04-d8b7-4481-a7eb-f4763bbc6282"
      },
      "source": [
        "age = f_data[\"age\"].mean()\n",
        "print(age)"
      ],
      "execution_count": 4,
      "outputs": [
        {
          "output_type": "stream",
          "text": [
            "36.85823043357163\n"
          ],
          "name": "stdout"
        }
      ]
    },
    {
      "cell_type": "markdown",
      "metadata": {
        "id": "INzfY0cdoGhd"
      },
      "source": [
        "3. Какова доля граждан Германии (признак native-country)?"
      ]
    },
    {
      "cell_type": "code",
      "metadata": {
        "colab": {
          "base_uri": "https://localhost:8080/"
        },
        "id": "fPEhW4gSEceW",
        "outputId": "4ef8b7a8-f742-42d4-85af-20c2941e75d5"
      },
      "source": [
        "motherland = data.loc[data[\"native-country\"] == \"Germany\"].shape[0]\n",
        "motherland_shaped = data.shape[0]\n",
        "total_motherland = motherland / motherland_shaped\n",
        "print(total_motherland)"
      ],
      "execution_count": 5,
      "outputs": [
        {
          "output_type": "stream",
          "text": [
            "0.004207487485028101\n"
          ],
          "name": "stdout"
        }
      ]
    },
    {
      "cell_type": "markdown",
      "metadata": {
        "id": "YgW-Zwn-oIMg"
      },
      "source": [
        "4-5. Каковы средние значения и среднеквадратичные отклонения возраста тех, кто получает более 50K в год (признак salary) и тех, кто получает менее 50K в год?"
      ]
    },
    {
      "cell_type": "code",
      "metadata": {
        "colab": {
          "base_uri": "https://localhost:8080/"
        },
        "id": "AweAjA9RF6A7",
        "outputId": "3258d8eb-469e-4896-a15d-b588fe7c2be2"
      },
      "source": [
        "rich = data.loc[data[\"salary\"] == \">50K\"]\n",
        "poor = data.loc[data[\"salary\"] == \"<=50K\"]\n",
        "print(rich[\"age\"].mean(),\n",
        "poor[\"age\"].mean(),\n",
        "rich[\"age\"].std(),\n",
        "poor[\"age\"].std())"
      ],
      "execution_count": 6,
      "outputs": [
        {
          "output_type": "stream",
          "text": [
            "44.24984058155847 36.78373786407767 10.51902771985177 14.020088490824813\n"
          ],
          "name": "stdout"
        }
      ]
    },
    {
      "cell_type": "markdown",
      "metadata": {
        "id": "oulsiGOog_7Q"
      },
      "source": [
        "6. Правда ли, что люди, которые получают больше 50k, имеют как минимум высшее образование?"
      ]
    },
    {
      "cell_type": "code",
      "metadata": {
        "colab": {
          "base_uri": "https://localhost:8080/"
        },
        "id": "62Mvya_mIkLi",
        "outputId": "2e263fb4-bbbc-47c6-fb48-1aaa57054f36"
      },
      "source": [
        "educated = data.loc[data[\"education-num\"].gt(11)]\n",
        "wealthy = data.loc[data[\"salary\"] == \">50K\"].shape[0]\n",
        "educated_and_wealthy = educated.loc[data[\"salary\"] == \">50K\"].shape[0]\n",
        "print(educated_and_wealthy / wealthy)"
      ],
      "execution_count": 7,
      "outputs": [
        {
          "output_type": "stream",
          "text": [
            "0.532330059941334\n"
          ],
          "name": "stdout"
        }
      ]
    },
    {
      "cell_type": "markdown",
      "metadata": {
        "id": "VSm5pC6FsakQ"
      },
      "source": [
        "7. Выведите статистику возраста для каждой расы (признак race) и каждого пола. Используйте groupby и describe. Найдите таким образом максимальный возраст мужчин расы Amer-Indian-Eskimo."
      ]
    },
    {
      "cell_type": "code",
      "metadata": {
        "colab": {
          "base_uri": "https://localhost:8080/"
        },
        "id": "VFbStRoTsc4S",
        "outputId": "8167b5b3-b557-4dcc-bfe1-aac7b46277d5"
      },
      "source": [
        "races = data.loc[data[\"race\"] == \"Amer-Indian-Eskimo\"]\n",
        "print(data.loc[data[\"age\"]].describe())\n",
        "max = races.groupby([\"race\"]).max()\n",
        "print(\"Максимальный возраст мужчин расы Amer-Indian-Eskimo =\", max.max()[0])"
      ],
      "execution_count": 8,
      "outputs": [
        {
          "output_type": "stream",
          "text": [
            "                age         fnlwgt  ...  capital-loss  hours-per-week\n",
            "count  32561.000000   32561.000000  ...  32561.000000    32561.000000\n",
            "mean      38.153312  205600.200393  ...    118.725285       42.199134\n",
            "std       12.472491  117157.058286  ...    449.153178       11.074858\n",
            "min       18.000000   28887.000000  ...      0.000000        2.000000\n",
            "25%       25.000000  109832.000000  ...      0.000000       40.000000\n",
            "50%       40.000000  191681.000000  ...      0.000000       40.000000\n",
            "75%       48.000000  271466.000000  ...      0.000000       44.000000\n",
            "max       79.000000  544091.000000  ...   2042.000000       80.000000\n",
            "\n",
            "[8 rows x 6 columns]\n",
            "Максимальный возраст мужчин расы Amer-Indian-Eskimo = 82\n"
          ],
          "name": "stdout"
        }
      ]
    },
    {
      "cell_type": "markdown",
      "metadata": {
        "id": "xY1Uh330u3mg"
      },
      "source": [
        "8. Среди кого больше доля зарабатывающих много (>50K): среди женатых или холостых мужчин (признак marital-status)? Женатыми считаем тех, у кого marital-status начинается с Married (Married-civ-spouse, Married-spouse-absent или Married-AF-spouse), остальных считаем холостыми."
      ]
    },
    {
      "cell_type": "code",
      "metadata": {
        "colab": {
          "base_uri": "https://localhost:8080/"
        },
        "id": "LkkLwPFJ8K6p",
        "outputId": "1e9b52e4-baf5-4347-cee3-8dbefe3e629a"
      },
      "source": [
        "rich[\"married\"] = rich.apply(lambda row: \"yes\" if row[\"marital-status\"].startswith(\"Married\") else \"no\", axis=1)\n",
        "more = rich.loc[rich[\"married\"] == \"yes\"]\n",
        "print(\"Женатых:\", more.shape[0])\n",
        "print(\"Холостых:\", rich.shape[0] - more.shape[0])\n",
        "#rich[\"mar\"] = [\"yes\" if rich[\"marital-status\"][i].startswith(\"Married\") else \"no\" for i in rich.index.values]"
      ],
      "execution_count": 9,
      "outputs": [
        {
          "output_type": "stream",
          "text": [
            "Женатых: 6736\n",
            "Холостых: 1105\n"
          ],
          "name": "stdout"
        },
        {
          "output_type": "stream",
          "text": [
            "/usr/local/lib/python3.7/dist-packages/ipykernel_launcher.py:1: SettingWithCopyWarning: \n",
            "A value is trying to be set on a copy of a slice from a DataFrame.\n",
            "Try using .loc[row_indexer,col_indexer] = value instead\n",
            "\n",
            "See the caveats in the documentation: https://pandas.pydata.org/pandas-docs/stable/user_guide/indexing.html#returning-a-view-versus-a-copy\n",
            "  \"\"\"Entry point for launching an IPython kernel.\n"
          ],
          "name": "stderr"
        }
      ]
    },
    {
      "cell_type": "markdown",
      "metadata": {
        "id": "sbGTBh9aAfix"
      },
      "source": [
        "9. Какое максимальное число часов человек работает в неделю (признак hours-per-week)? Сколько людей работают такое количество часов и каков среди них процент зарабатывающих много?"
      ]
    },
    {
      "cell_type": "code",
      "metadata": {
        "colab": {
          "base_uri": "https://localhost:8080/"
        },
        "id": "3EoDllIuAjZC",
        "outputId": "fa3aa7e2-d20d-49b8-8afc-0bc53d5ddf9b"
      },
      "source": [
        "hours = data[\"hours-per-week\"].max()\n",
        "people_of_work = data.loc[data[\"hours-per-week\"] == hours]\n",
        "wealth_people_of_work = people_of_work.loc[data[\"salary\"] == \">50K\"]\n",
        "print(wealth_people_of_work.shape[0] / people_of_work.shape[0] * 100, \"%\")"
      ],
      "execution_count": 10,
      "outputs": [
        {
          "output_type": "stream",
          "text": [
            "29.411764705882355 %\n"
          ],
          "name": "stdout"
        }
      ]
    },
    {
      "cell_type": "markdown",
      "metadata": {
        "id": "Fnc77-EzFc3P"
      },
      "source": [
        "10. Посчитайте среднее время работы (hours-per-week) зарабатывающих мало и много (salary) для каждой страны (native-country).\n",
        "\n"
      ]
    },
    {
      "cell_type": "code",
      "metadata": {
        "colab": {
          "base_uri": "https://localhost:8080/"
        },
        "id": "HWIXeXn7Etc-",
        "outputId": "642ac53c-2a0f-4058-8df8-c53437384c0c"
      },
      "source": [
        "#country_data = {country: data[\"native-country\"].to_list().count(country) for country in set(data[\"native-country\"])}\n",
        "countries_by_rich = rich.groupby([\"native-country\"]).describe()\n",
        "countries_by_rich[\"hours-per-week\"][\"mean\"].sort_values()"
      ],
      "execution_count": 58,
      "outputs": [
        {
          "output_type": "execute_result",
          "data": {
            "text/plain": [
              "native-country\n",
              "Guatemala             36.666667\n",
              "Nicaragua             37.500000\n",
              "China                 38.900000\n",
              "Poland                39.000000\n",
              "Vietnam               39.200000\n",
              "Puerto-Rico           39.416667\n",
              "Laos                  40.000000\n",
              "Peru                  40.000000\n",
              "Cambodia              40.000000\n",
              "Trinadad&Tobago       40.000000\n",
              "Jamaica               41.100000\n",
              "Portugal              41.500000\n",
              "Cuba                  42.440000\n",
              "Haiti                 42.750000\n",
              "Philippines           43.032787\n",
              "England               44.533333\n",
              "Germany               44.977273\n",
              "El-Salvador           45.000000\n",
              "Hong                  45.000000\n",
              "Italy                 45.400000\n",
              "United-States         45.505369\n",
              "?                     45.547945\n",
              "Canada                45.641026\n",
              "India                 46.475000\n",
              "Mexico                46.575758\n",
              "Scotland              46.666667\n",
              "Taiwan                46.800000\n",
              "Dominican-Republic    47.000000\n",
              "Iran                  47.500000\n",
              "Japan                 47.958333\n",
              "Ireland               48.000000\n",
              "Ecuador               48.750000\n",
              "Yugoslavia            49.500000\n",
              "Hungary               50.000000\n",
              "Columbia              50.000000\n",
              "Greece                50.625000\n",
              "France                50.750000\n",
              "South                 51.437500\n",
              "Thailand              58.333333\n",
              "Honduras              60.000000\n",
              "Name: mean, dtype: float64"
            ]
          },
          "metadata": {
            "tags": []
          },
          "execution_count": 58
        }
      ]
    },
    {
      "cell_type": "code",
      "metadata": {
        "colab": {
          "base_uri": "https://localhost:8080/"
        },
        "id": "3Tg0TJogRcoP",
        "outputId": "f4c4e61b-dfee-4e20-99e0-8dc0f3d48311"
      },
      "source": [
        "countries_by_poor = poor.groupby([\"native-country\"]).describe()\n",
        "countries_by_poor[\"hours-per-week\"][\"mean\"].sort_values()"
      ],
      "execution_count": 59,
      "outputs": [
        {
          "output_type": "execute_result",
          "data": {
            "text/plain": [
              "native-country\n",
              "Hungary                       31.300000\n",
              "Taiwan                        33.774194\n",
              "Honduras                      34.333333\n",
              "Peru                          35.068966\n",
              "El-Salvador                   36.030928\n",
              "Nicaragua                     36.093750\n",
              "Haiti                         36.325000\n",
              "Trinadad&Tobago               37.058824\n",
              "Vietnam                       37.193548\n",
              "China                         37.381818\n",
              "Canada                        37.914634\n",
              "Cuba                          37.985714\n",
              "Ecuador                       38.041667\n",
              "Philippines                   38.065693\n",
              "Poland                        38.166667\n",
              "India                         38.233333\n",
              "Jamaica                       38.239437\n",
              "Puerto-Rico                   38.470588\n",
              "Columbia                      38.684211\n",
              "United-States                 38.799127\n",
              "Germany                       39.139785\n",
              "Hong                          39.142857\n",
              "Guatemala                     39.360656\n",
              "Scotland                      39.444444\n",
              "Italy                         39.625000\n",
              "Holand-Netherlands            40.000000\n",
              "Mexico                        40.003279\n",
              "South                         40.156250\n",
              "?                             40.164760\n",
              "Laos                          40.375000\n",
              "England                       40.483333\n",
              "Ireland                       40.947368\n",
              "Japan                         41.000000\n",
              "France                        41.058824\n",
              "Cambodia                      41.416667\n",
              "Iran                          41.440000\n",
              "Yugoslavia                    41.600000\n",
              "Greece                        41.809524\n",
              "Outlying-US(Guam-USVI-etc)    41.857143\n",
              "Portugal                      41.939394\n",
              "Dominican-Republic            42.338235\n",
              "Thailand                      42.866667\n",
              "Name: mean, dtype: float64"
            ]
          },
          "metadata": {
            "tags": []
          },
          "execution_count": 59
        }
      ]
    }
  ]
}